{
 "cells": [
  {
   "cell_type": "code",
   "execution_count": 2,
   "metadata": {},
   "outputs": [
    {
     "name": "stderr",
     "output_type": "stream",
     "text": [
      "2024-03-13 13:08:07.007 WARNING streamlit.runtime.caching.cache_data_api: No runtime found, using MemoryCacheStorageManager\n",
      "2024-03-13 13:08:07.009 WARNING streamlit.runtime.caching.cache_data_api: No runtime found, using MemoryCacheStorageManager\n",
      "2024-03-13 13:08:07.011 WARNING streamlit.runtime.caching.cache_data_api: No runtime found, using MemoryCacheStorageManager\n",
      "2024-03-13 13:08:07.013 WARNING streamlit.runtime.caching.cache_data_api: No runtime found, using MemoryCacheStorageManager\n",
      "2024-03-13 13:08:07.015 WARNING streamlit.runtime.caching.cache_data_api: No runtime found, using MemoryCacheStorageManager\n",
      "2024-03-13 13:08:07.017 WARNING streamlit.runtime.caching.cache_data_api: No runtime found, using MemoryCacheStorageManager\n"
     ]
    }
   ],
   "source": [
    "import os\n",
    "import json\n",
    "import pandas as pd\n",
    "import streamlit as st\n",
    "import st_pages as stp\n",
    "\n",
    "from os.path import exists\n",
    "\n",
    "base_url = \"https://trisonics-scouting-api.azurewebsites.net/api\"\n",
    "from scout import *"
   ]
  },
  {
   "cell_type": "code",
   "execution_count": 5,
   "metadata": {},
   "outputs": [
    {
     "name": "stderr",
     "output_type": "stream",
     "text": [
      "2024-03-12 20:06:18.507 \n",
      "  \u001b[33m\u001b[1mWarning:\u001b[0m to view this Streamlit app on a browser, run it with the following\n",
      "  command:\n",
      "\n",
      "    streamlit run /home/jbuist/git/FRCScout/data-streamlit/venv/lib/python3.11/site-packages/ipykernel_launcher.py [ARGUMENTS]\n",
      "2024-03-12 20:06:18.509 No runtime found, using MemoryCacheStorageManager\n"
     ]
    },
    {
     "name": "stdout",
     "output_type": "stream",
     "text": [
      "https://trisonics-scouting-api.azurewebsites.net/api/GetResults?secret_team_key=4003data&event_key=2024milac\n"
     ]
    }
   ],
   "source": [
    "sk = '4003data'\n",
    "ek = '2024milac'\n",
    "\n",
    "event = load_event_data(sk, ek)"
   ]
  },
  {
   "cell_type": "code",
   "execution_count": 84,
   "metadata": {},
   "outputs": [
    {
     "name": "stdout",
     "output_type": "stream",
     "text": [
      "https://trisonics-scouting-api.azurewebsites.net/api/GetOPRData?secret_team_key=4003data&event_key=2024milac\n"
     ]
    }
   ],
   "source": [
    "opr = load_opr_data(sk, ek)\n",
    "# opr[opr['teamNumber'] == 4003]['totalPoints'].item()\n",
    "opr_totalpoints = opr[['teamNumber', 'totalPoints']]"
   ]
  },
  {
   "cell_type": "code",
   "execution_count": 30,
   "metadata": {},
   "outputs": [
    {
     "data": {
      "text/plain": [
       "Index(['adjustPoints', 'autoAmpNoteCount', 'autoAmpNotePoints',\n",
       "       'autoLeavePoints', 'autoPoints', 'autoSpeakerNoteCount',\n",
       "       'autoSpeakerNotePoints', 'autoTotalNotePoints', 'endGameHarmonyPoints',\n",
       "       'endGameNoteInTrapPoints', 'endGameOnStagePoints', 'endGameParkPoints',\n",
       "       'endGameSpotLightBonusPoints', 'endGameTotalStagePoints',\n",
       "       'ensembleBonusOnStageRobotsThreshold',\n",
       "       'ensembleBonusStagePointsThreshold', 'foulCount', 'foulPoints',\n",
       "       'melodyBonusThreshold', 'melodyBonusThresholdCoop',\n",
       "       'melodyBonusThresholdNonCoop', 'rp', 'techFoulCount',\n",
       "       'teleopAmpNoteCount', 'teleopAmpNotePoints', 'teleopPoints',\n",
       "       'teleopSpeakerNoteAmplifiedCount', 'teleopSpeakerNoteAmplifiedPoints',\n",
       "       'teleopSpeakerNoteCount', 'teleopSpeakerNotePoints',\n",
       "       'teleopTotalNotePoints', 'totalPoints', 'teamNumber'],\n",
       "      dtype='object')"
      ]
     },
     "execution_count": 30,
     "metadata": {},
     "output_type": "execute_result"
    }
   ],
   "source": [
    "opr.columns"
   ]
  },
  {
   "cell_type": "code",
   "execution_count": 31,
   "metadata": {},
   "outputs": [
    {
     "name": "stderr",
     "output_type": "stream",
     "text": [
      "2024-03-12 22:58:54.750 No runtime found, using MemoryCacheStorageManager\n"
     ]
    },
    {
     "name": "stdout",
     "output_type": "stream",
     "text": [
      "https://trisonics-scouting-api.azurewebsites.net/api/GetMatchesForEvent?event_key=2024milac\n"
     ]
    }
   ],
   "source": [
    "matches = load_matches_data(ek)"
   ]
  },
  {
   "cell_type": "code",
   "execution_count": 98,
   "metadata": {},
   "outputs": [],
   "source": [
    "n1 = pd.json_normalize(matches['alliances'])\n",
    "bluen2 = pd.json_normalize(n1['blue.team_keys'])\n",
    "redn2 = pd.json_normalize(n1['red.team_keys'])\n",
    "\n",
    "\n",
    "blueteams = pd.DataFrame(n1['blue.team_keys'].explode())\n",
    "redteams = pd.DataFrame(n1['red.team_keys'].explode())\n",
    "blueteams['blue.team_keys'] = blueteams['blue.team_keys'].str.replace('frc', '').astype(int)\n",
    "redteams['red.team_keys'] = redteams['red.team_keys'].str.replace('frc', '').astype(int)\n",
    "blueteams['robot_num'] = blueteams.groupby(blueteams.index).rank()\n",
    "redteams['robot_num'] = redteams.groupby(redteams.index).rank()\n",
    "pblue = blueteams.pivot(columns='robot_num', values='blue.team_keys')\n",
    "pred = redteams.pivot(columns='robot_num', values='red.team_keys')\n",
    "pblue.columns = ['blue1', 'blue2', 'blue3']\n",
    "pred.columns = ['red1', 'red2', 'red3']\n",
    "bigmatches = matches.join(pblue).join(pred)\n"
   ]
  },
  {
   "cell_type": "code",
   "execution_count": 88,
   "metadata": {},
   "outputs": [
    {
     "data": {
      "text/plain": [
       "Index(['actual_time', 'alliances', 'comp_level', 'event_key', 'key',\n",
       "       'match_number', 'post_result_time', 'predicted_time', 'score_breakdown',\n",
       "       'set_number', 'time', 'videos', 'winning_alliance'],\n",
       "      dtype='object')"
      ]
     },
     "execution_count": 88,
     "metadata": {},
     "output_type": "execute_result"
    }
   ],
   "source": [
    "matches.columns"
   ]
  },
  {
   "cell_type": "code",
   "execution_count": null,
   "metadata": {},
   "outputs": [],
   "source": [
    "for color, index in zip(['blue', 'red'], [1, 2, 3]):\n",
    "    bigmatches = bigmatches.join(opr_totalpoints.set_index('teamNumber'), on=f'{color}{index}')\n",
    "    bigmatches.rename(columns={'totalPoints': f'{color}{index}_totalPoints'}, inplace=True)\n",
    "    bigmatches = bigmatches.join(opr_totalpoints.set_index('teamNumber'), on=f'{color}{index}')\n",
    "    bigmatches.rename(columns={'totalPoints': f'{color}{index}_totalPoints'}, inplace=True)\n",
    "bigmatches"
   ]
  },
  {
   "cell_type": "code",
   "execution_count": 105,
   "metadata": {},
   "outputs": [
    {
     "ename": "ImportError",
     "evalue": "cannot import name 'load_statbot_matches_data' from 'scout' (/home/jbuist/git/FRCScout/data-streamlit/scout.py)",
     "output_type": "error",
     "traceback": [
      "\u001b[0;31m---------------------------------------------------------------------------\u001b[0m",
      "\u001b[0;31mImportError\u001b[0m                               Traceback (most recent call last)",
      "Cell \u001b[0;32mIn[105], line 1\u001b[0m\n\u001b[0;32m----> 1\u001b[0m \u001b[38;5;28;01mfrom\u001b[39;00m \u001b[38;5;21;01mscout\u001b[39;00m \u001b[38;5;28;01mimport\u001b[39;00m load_statbot_matches_data\n\u001b[1;32m      3\u001b[0m predictions \u001b[38;5;241m=\u001b[39m load_statbot_matches_data(ek)\n",
      "\u001b[0;31mImportError\u001b[0m: cannot import name 'load_statbot_matches_data' from 'scout' (/home/jbuist/git/FRCScout/data-streamlit/scout.py)"
     ]
    }
   ],
   "source": [
    "from scout import load_statbot_matches_data\n",
    "\n",
    "predictions = load_statbot_matches_data(ek)"
   ]
  },
  {
   "cell_type": "code",
   "execution_count": 3,
   "metadata": {},
   "outputs": [
    {
     "name": "stderr",
     "output_type": "stream",
     "text": [
      "2024-03-13 13:08:14.648 \n",
      "  \u001b[33m\u001b[1mWarning:\u001b[0m to view this Streamlit app on a browser, run it with the following\n",
      "  command:\n",
      "\n",
      "    streamlit run /home/jbuist/git/FRCScout/data-streamlit/venv/lib/python3.11/site-packages/ipykernel_launcher.py [ARGUMENTS]\n",
      "2024-03-13 13:08:14.652 No runtime found, using MemoryCacheStorageManager\n"
     ]
    },
    {
     "name": "stdout",
     "output_type": "stream",
     "text": [
      "statbot url https://trisonics-scouting-api.azurewebsites.net/api/GetStatboticsMatches?event_key=2024milac\n"
     ]
    }
   ],
   "source": [
    "from scout import load_statbot_matches_data\n",
    "statbotics = load_statbot_matches_data('2024milac')\n",
    "preds = statbotics[['comp_level', 'match_number', 'pred']]\n"
   ]
  },
  {
   "cell_type": "code",
   "execution_count": 8,
   "metadata": {},
   "outputs": [
    {
     "data": {
      "text/html": [
       "<div>\n",
       "<style scoped>\n",
       "    .dataframe tbody tr th:only-of-type {\n",
       "        vertical-align: middle;\n",
       "    }\n",
       "\n",
       "    .dataframe tbody tr th {\n",
       "        vertical-align: top;\n",
       "    }\n",
       "\n",
       "    .dataframe thead th {\n",
       "        text-align: right;\n",
       "    }\n",
       "</style>\n",
       "<table border=\"1\" class=\"dataframe\">\n",
       "  <thead>\n",
       "    <tr style=\"text-align: right;\">\n",
       "      <th></th>\n",
       "      <th>comp_level</th>\n",
       "      <th>match_number</th>\n",
       "      <th>pred</th>\n",
       "      <th>winner</th>\n",
       "      <th>red_win_prob</th>\n",
       "      <th>red_score</th>\n",
       "      <th>blue_score</th>\n",
       "      <th>red_melody_rp</th>\n",
       "      <th>red_harmony_rp</th>\n",
       "      <th>blue_melody_rp</th>\n",
       "      <th>blue_harmony_rp</th>\n",
       "    </tr>\n",
       "  </thead>\n",
       "  <tbody>\n",
       "    <tr>\n",
       "      <th>0</th>\n",
       "      <td>f</td>\n",
       "      <td>1</td>\n",
       "      <td>{'winner': 'blue', 'red_win_prob': 0.3386, 're...</td>\n",
       "      <td>blue</td>\n",
       "      <td>0.3386</td>\n",
       "      <td>59.25</td>\n",
       "      <td>65.63</td>\n",
       "      <td>0.5468</td>\n",
       "      <td>0.2469</td>\n",
       "      <td>0.8694</td>\n",
       "      <td>0.0658</td>\n",
       "    </tr>\n",
       "    <tr>\n",
       "      <th>1</th>\n",
       "      <td>f</td>\n",
       "      <td>2</td>\n",
       "      <td>{'winner': 'blue', 'red_win_prob': 0.3524, 're...</td>\n",
       "      <td>blue</td>\n",
       "      <td>0.3524</td>\n",
       "      <td>59.85</td>\n",
       "      <td>65.52</td>\n",
       "      <td>0.5632</td>\n",
       "      <td>0.2469</td>\n",
       "      <td>0.8721</td>\n",
       "      <td>0.0658</td>\n",
       "    </tr>\n",
       "    <tr>\n",
       "      <th>2</th>\n",
       "      <td>f</td>\n",
       "      <td>3</td>\n",
       "      <td>{'winner': 'blue', 'red_win_prob': 0.342400000...</td>\n",
       "      <td>blue</td>\n",
       "      <td>0.3424</td>\n",
       "      <td>59.69</td>\n",
       "      <td>65.56</td>\n",
       "      <td>0.5576</td>\n",
       "      <td>0.2469</td>\n",
       "      <td>0.8750</td>\n",
       "      <td>0.0658</td>\n",
       "    </tr>\n",
       "    <tr>\n",
       "      <th>3</th>\n",
       "      <td>qm</td>\n",
       "      <td>1</td>\n",
       "      <td>{'winner': 'blue', 'red_win_prob': 0.440600000...</td>\n",
       "      <td>blue</td>\n",
       "      <td>0.4406</td>\n",
       "      <td>46.64</td>\n",
       "      <td>48.71</td>\n",
       "      <td>0.3075</td>\n",
       "      <td>0.0911</td>\n",
       "      <td>0.4396</td>\n",
       "      <td>0.1341</td>\n",
       "    </tr>\n",
       "    <tr>\n",
       "      <th>4</th>\n",
       "      <td>qm</td>\n",
       "      <td>10</td>\n",
       "      <td>{'winner': 'red', 'red_win_prob': 0.5135000000...</td>\n",
       "      <td>red</td>\n",
       "      <td>0.5135</td>\n",
       "      <td>44.89</td>\n",
       "      <td>44.41</td>\n",
       "      <td>0.2986</td>\n",
       "      <td>0.1087</td>\n",
       "      <td>0.2748</td>\n",
       "      <td>0.1210</td>\n",
       "    </tr>\n",
       "    <tr>\n",
       "      <th>...</th>\n",
       "      <td>...</td>\n",
       "      <td>...</td>\n",
       "      <td>...</td>\n",
       "      <td>...</td>\n",
       "      <td>...</td>\n",
       "      <td>...</td>\n",
       "      <td>...</td>\n",
       "      <td>...</td>\n",
       "      <td>...</td>\n",
       "      <td>...</td>\n",
       "      <td>...</td>\n",
       "    </tr>\n",
       "    <tr>\n",
       "      <th>89</th>\n",
       "      <td>sf</td>\n",
       "      <td>1</td>\n",
       "      <td>{'winner': 'red', 'red_win_prob': 0.6463, 'red...</td>\n",
       "      <td>red</td>\n",
       "      <td>0.6463</td>\n",
       "      <td>58.89</td>\n",
       "      <td>51.06</td>\n",
       "      <td>0.6369</td>\n",
       "      <td>0.0373</td>\n",
       "      <td>0.3199</td>\n",
       "      <td>0.2097</td>\n",
       "    </tr>\n",
       "    <tr>\n",
       "      <th>90</th>\n",
       "      <td>sf</td>\n",
       "      <td>1</td>\n",
       "      <td>{'winner': 'blue', 'red_win_prob': 0.0882, 're...</td>\n",
       "      <td>blue</td>\n",
       "      <td>0.0882</td>\n",
       "      <td>46.01</td>\n",
       "      <td>65.70</td>\n",
       "      <td>0.2112</td>\n",
       "      <td>0.1246</td>\n",
       "      <td>0.8726</td>\n",
       "      <td>0.1651</td>\n",
       "    </tr>\n",
       "    <tr>\n",
       "      <th>91</th>\n",
       "      <td>sf</td>\n",
       "      <td>1</td>\n",
       "      <td>{'winner': 'blue', 'red_win_prob': 0.464400000...</td>\n",
       "      <td>blue</td>\n",
       "      <td>0.4644</td>\n",
       "      <td>57.31</td>\n",
       "      <td>58.58</td>\n",
       "      <td>0.6615</td>\n",
       "      <td>0.1226</td>\n",
       "      <td>0.5609</td>\n",
       "      <td>0.2469</td>\n",
       "    </tr>\n",
       "    <tr>\n",
       "      <th>92</th>\n",
       "      <td>sf</td>\n",
       "      <td>1</td>\n",
       "      <td>{'winner': 'red', 'red_win_prob': 0.7604000000...</td>\n",
       "      <td>red</td>\n",
       "      <td>0.7604</td>\n",
       "      <td>63.16</td>\n",
       "      <td>52.36</td>\n",
       "      <td>0.8727</td>\n",
       "      <td>0.0658</td>\n",
       "      <td>0.2935</td>\n",
       "      <td>0.2613</td>\n",
       "    </tr>\n",
       "    <tr>\n",
       "      <th>93</th>\n",
       "      <td>sf</td>\n",
       "      <td>1</td>\n",
       "      <td>{'winner': 'blue', 'red_win_prob': 0.232400000...</td>\n",
       "      <td>blue</td>\n",
       "      <td>0.2324</td>\n",
       "      <td>57.09</td>\n",
       "      <td>66.61</td>\n",
       "      <td>0.6620</td>\n",
       "      <td>0.1226</td>\n",
       "      <td>0.8730</td>\n",
       "      <td>0.1651</td>\n",
       "    </tr>\n",
       "  </tbody>\n",
       "</table>\n",
       "<p>94 rows × 11 columns</p>\n",
       "</div>"
      ],
      "text/plain": [
       "   comp_level  match_number  \\\n",
       "0           f             1   \n",
       "1           f             2   \n",
       "2           f             3   \n",
       "3          qm             1   \n",
       "4          qm            10   \n",
       "..        ...           ...   \n",
       "89         sf             1   \n",
       "90         sf             1   \n",
       "91         sf             1   \n",
       "92         sf             1   \n",
       "93         sf             1   \n",
       "\n",
       "                                                 pred winner  red_win_prob  \\\n",
       "0   {'winner': 'blue', 'red_win_prob': 0.3386, 're...   blue        0.3386   \n",
       "1   {'winner': 'blue', 'red_win_prob': 0.3524, 're...   blue        0.3524   \n",
       "2   {'winner': 'blue', 'red_win_prob': 0.342400000...   blue        0.3424   \n",
       "3   {'winner': 'blue', 'red_win_prob': 0.440600000...   blue        0.4406   \n",
       "4   {'winner': 'red', 'red_win_prob': 0.5135000000...    red        0.5135   \n",
       "..                                                ...    ...           ...   \n",
       "89  {'winner': 'red', 'red_win_prob': 0.6463, 'red...    red        0.6463   \n",
       "90  {'winner': 'blue', 'red_win_prob': 0.0882, 're...   blue        0.0882   \n",
       "91  {'winner': 'blue', 'red_win_prob': 0.464400000...   blue        0.4644   \n",
       "92  {'winner': 'red', 'red_win_prob': 0.7604000000...    red        0.7604   \n",
       "93  {'winner': 'blue', 'red_win_prob': 0.232400000...   blue        0.2324   \n",
       "\n",
       "    red_score  blue_score  red_melody_rp  red_harmony_rp  blue_melody_rp  \\\n",
       "0       59.25       65.63         0.5468          0.2469          0.8694   \n",
       "1       59.85       65.52         0.5632          0.2469          0.8721   \n",
       "2       59.69       65.56         0.5576          0.2469          0.8750   \n",
       "3       46.64       48.71         0.3075          0.0911          0.4396   \n",
       "4       44.89       44.41         0.2986          0.1087          0.2748   \n",
       "..        ...         ...            ...             ...             ...   \n",
       "89      58.89       51.06         0.6369          0.0373          0.3199   \n",
       "90      46.01       65.70         0.2112          0.1246          0.8726   \n",
       "91      57.31       58.58         0.6615          0.1226          0.5609   \n",
       "92      63.16       52.36         0.8727          0.0658          0.2935   \n",
       "93      57.09       66.61         0.6620          0.1226          0.8730   \n",
       "\n",
       "    blue_harmony_rp  \n",
       "0            0.0658  \n",
       "1            0.0658  \n",
       "2            0.0658  \n",
       "3            0.1341  \n",
       "4            0.1210  \n",
       "..              ...  \n",
       "89           0.2097  \n",
       "90           0.1651  \n",
       "91           0.2469  \n",
       "92           0.2613  \n",
       "93           0.1651  \n",
       "\n",
       "[94 rows x 11 columns]"
      ]
     },
     "execution_count": 8,
     "metadata": {},
     "output_type": "execute_result"
    }
   ],
   "source": [
    "import pandas as pd\n",
    "\n",
    "bigpreds = preds.join(pd.json_normalize(preds['pred']))\n",
    "bigpreds"
   ]
  }
 ],
 "metadata": {
  "kernelspec": {
   "display_name": "venv",
   "language": "python",
   "name": "python3"
  },
  "language_info": {
   "codemirror_mode": {
    "name": "ipython",
    "version": 3
   },
   "file_extension": ".py",
   "mimetype": "text/x-python",
   "name": "python",
   "nbconvert_exporter": "python",
   "pygments_lexer": "ipython3",
   "version": "3.11.2"
  }
 },
 "nbformat": 4,
 "nbformat_minor": 2
}
